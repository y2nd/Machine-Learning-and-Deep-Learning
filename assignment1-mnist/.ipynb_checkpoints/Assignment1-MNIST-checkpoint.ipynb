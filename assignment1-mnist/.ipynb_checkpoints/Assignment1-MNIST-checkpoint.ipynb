{
 "cells": [
  {
   "cell_type": "markdown",
   "metadata": {},
   "source": [
    "# IF240 - Apprentissage et deep learning\n",
    "\n",
    "## Assignment 1: K-Means, Naive Bayes, SVMs and CNNs"
   ]
  },
  {
   "cell_type": "markdown",
   "metadata": {},
   "source": [
    "### Objectives \n",
    "\n",
    "The objective of this assignment is to apply different classification algorithms for the application of handwritten digits recognition."
   ]
  },
  {
   "cell_type": "markdown",
   "metadata": {},
   "source": [
    "# PART 0 - Preparing the dataset"
   ]
  },
  {
   "cell_type": "markdown",
   "metadata": {},
   "source": [
    "In this practice, you will experiment with the well-known MNIST dataset"
   ]
  },
  {
   "cell_type": "code",
   "execution_count": 1,
   "metadata": {},
   "outputs": [],
   "source": [
    "import numpy as np\n",
    "import torch\n",
    "import matplotlib.pyplot as plt\n",
    "import torch.nn as nn\n",
    "import torch.nn.functional as F\n",
    "\n",
    "from sklearn.metrics import accuracy_score\n",
    "from sklearn.metrics import confusion_matrix\n",
    "\n",
    "import MNISTtools"
   ]
  },
  {
   "cell_type": "markdown",
   "metadata": {},
   "source": [
    "Let us first load and normalize MNIST testing and training data. This dataset is made of 60000 grayscale images of size 28$\\times$28"
   ]
  },
  {
   "cell_type": "code",
   "execution_count": 2,
   "metadata": {},
   "outputs": [],
   "source": [
    "x_train, y_train = MNISTtools.load(dataset='training')\n",
    "x_test, y_test = MNISTtools.load(dataset='testing')"
   ]
  },
  {
   "cell_type": "markdown",
   "metadata": {},
   "source": [
    "To reduce the computation cost, we only select a small part of $n$ images for further analysis. _You might modify this value later to visualise its influence on the results._"
   ]
  },
  {
   "cell_type": "code",
   "execution_count": 3,
   "metadata": {},
   "outputs": [],
   "source": [
    "n = 5000\n",
    "x_train = x_train[:,1:n+1]\n",
    "y_train = y_train[1:n+1]"
   ]
  },
  {
   "cell_type": "markdown",
   "metadata": {},
   "source": [
    "## Question 1\n",
    "\n",
    "How many training and testing images compose the dataset? What are the dimensions of the data samples?"
   ]
  },
  {
   "cell_type": "code",
   "execution_count": 4,
   "metadata": {},
   "outputs": [
    {
     "name": "stdout",
     "output_type": "stream",
     "text": [
      "(784, 5000)\n",
      "(784, 10000)\n"
     ]
    }
   ],
   "source": [
    "print(np.shape(x_train))\n",
    "print(np.shape(x_test))"
   ]
  },
  {
   "cell_type": "markdown",
   "metadata": {},
   "source": [
    "le training dataset est composé de 60000 images.\n",
    "\n",
    "le testing dataset est composé de 10000 images."
   ]
  },
  {
   "cell_type": "markdown",
   "metadata": {},
   "source": [
    "To visualize the images, the vectors must be reshaped to a grayscale square image.  "
   ]
  },
  {
   "cell_type": "code",
   "execution_count": 5,
   "metadata": {},
   "outputs": [
    {
     "data": {
      "image/png": "[encoded data removed]",
      "text/plain": [
       "<Figure size 432x288 with 1 Axes>"
      ]
     },
     "metadata": {
      "needs_background": "light"
     },
     "output_type": "display_data"
    },
    {
     "name": "stdout",
     "output_type": "stream",
     "text": [
      "the label of image 42 is 9\n"
     ]
    },
    {
     "data": {
      "image/png": "[encoded data removed]",
      "text/plain": [
       "<Figure size 432x288 with 1 Axes>"
      ]
     },
     "metadata": {
      "needs_background": "light"
     },
     "output_type": "display_data"
    },
    {
     "name": "stdout",
     "output_type": "stream",
     "text": [
      "the label of image 200 is 1\n"
     ]
    }
   ],
   "source": [
    "x_test_im = x_test.reshape((28, 28, 1, -1))\n",
    "x_train_im = x_train.reshape((28, 28, 1, -1))\n",
    "\n",
    "# let us show image number 42 and its label\n",
    "MNISTtools.show(x_train_im[:, :, 0, 42])\n",
    "print(\"the label of image 42 is\", y_train[42])\n",
    "\n",
    "# let us show image number 200 and its label\n",
    "MNISTtools.show(x_train_im[:, :, 0, 200])\n",
    "print(\"the label of image 200 is\", y_train[200])"
   ]
  },
  {
   "cell_type": "markdown",
   "metadata": {},
   "source": [
    "# PART 1 - K-Means\n",
    "\n",
    "In this first part you must group the testing set into 10 clusters using the K-Means algorithm. \n",
    "You must observe the clustering result by visualizing as images the computed centroids and by checking if each found cluster corresponds to one label from the ground truth given by `y_test`. In other words, check to which cluster is assigned each data point, as in a classification problem. Analyse the results. \n",
    "\n",
    "Be careful: the index of the clusters you find (named `pred_labels` here) does not mandatorily correspond to the digit value (initial label `y_test`). One way to find which label corresponds to each cluster is to visualise the centroid image, or to compute the mode of each class in the ground truth, for example using the following code:\n",
    "\n",
    "```\n",
    "from scipy.stats import mode\n",
    "real_pred_labels = np.zeros_like(pred_labels)\n",
    "real_pred_centers = np.zeros_like(pred_centers)\n",
    "for i in range(10):\n",
    "    indices = np.where(pred_labels == i)[0]\n",
    "    real_value = mode(y_test[indices])[0]\n",
    "    real_pred_labels[indices] = real_value\n",
    "    real_pred_centers[real_value] = pred_centers[i]\n",
    "```"
   ]
  },
  {
   "cell_type": "code",
   "execution_count": 6,
   "metadata": {},
   "outputs": [],
   "source": [
    "# Transpose data, necessary for K-Means, Naive Bayes and SVM with sklearn\n",
    "x_test_t =  np.transpose(x_test)\n",
    "x_train_t =  np.transpose(x_train)"
   ]
  },
  {
   "cell_type": "markdown",
   "metadata": {},
   "source": [
    "## Question 2\n",
    "\n",
    "Implement K-Means. Add comments to your code as necessary to make it more explicit"
   ]
  },
  {
   "cell_type": "code",
   "execution_count": 7,
   "metadata": {},
   "outputs": [],
   "source": [
    "class Kmeans(object):\n",
    "    \n",
    "    def __init__(self, nb_clusters):\n",
    "        \"\"\"\n",
    "        Kmeans Class Constructor \n",
    "        \"\"\"\n",
    "        self.k = nb_clusters\n",
    "        \n",
    "        \n",
    "    def get_random_centroids(self, dataset, num_clusters):\n",
    "        \"\"\"\n",
    "        Initialize centroids by choosing randomly k points from the dataset\n",
    "        \"\"\"\n",
    "        num_points, _ = dataset.shape\n",
    "        centroids = dataset[np.random.randint(num_points, size=num_clusters), :]\n",
    "        \n",
    "        return centroids\n",
    "        \n",
    "\n",
    "    def should_stop(self, old_centroids, centroids, iterations, max_iterations):\n",
    "        \"\"\"\n",
    "        Returns True or False if k-means if the maximum number of iterations is reached \n",
    "        or if the centroids do not change anymore\n",
    "        \"\"\"\n",
    "        return np.array_equal(centroids, old_centroids) or iterations == max_iterations\n",
    "    \n",
    "    \n",
    "    def get_labels(self, dataset, centroids):\n",
    "        \"\"\"\n",
    "        Returns the label for each point in the dataSet. The label is the one of the closest centroid\n",
    "        \"\"\"\n",
    "        def get_closest_centroid(point):\n",
    "            \"\"\"\n",
    "            Gets the label of the closest centroid \n",
    "            \"\"\"\n",
    "            label = 0\n",
    "            dis_min = np.linalg.norm(point - centroids[0])\n",
    "            for i in range(1, self.k):\n",
    "                dis = np.linalg.norm(point - centroids[i])\n",
    "                if dis < dis_min:\n",
    "                    dis_min = dis\n",
    "                    label = i\n",
    "            return label\n",
    "\n",
    "        return np.array([get_closest_centroid(point) for point in dataset])\n",
    "    \n",
    "    \n",
    "    def get_centroids(self, dataset, labels):\n",
    "        \"\"\"\n",
    "        Returns the centroids of the clusters. Each centroid is the geometric mean of the points that\n",
    "        have that centroid's label. Important: If a centroid is empty (no points have\n",
    "        that centroid's label) you should randomly re-initialize it.\n",
    "        \"\"\"\n",
    "        num_points, _ = np.shape(dataset)\n",
    "        A = [[] for i in range(self.k)]\n",
    "        for i in range(num_points):\n",
    "            A[labels[i]].append(dataset[i])        \n",
    "\n",
    "        centroids = []\n",
    "        for i in range(self.k):\n",
    "            if len(A[i]) == 0:\n",
    "                centroids.append(dataset[np.random.randint(num_points),:])\n",
    "            else:\n",
    "                centroids.append(np.mean(np.vstack(A[i]), axis=0))\n",
    "\n",
    "        return  np.array(centroids)\n",
    "    \n",
    "\n",
    "    def fit(self, dataset, max_iterations=5):\n",
    "        \"\"\"\n",
    "        Evalutes centroids and labels for each oint\n",
    "        \"\"\"\n",
    "        centroids = self.get_random_centroids(dataset, self.k)\n",
    "        iterations = 0\n",
    "        old_centroids = None\n",
    "\n",
    "        while not self.should_stop(old_centroids, centroids, iterations, max_iterations):\n",
    "            old_centroids = centroids\n",
    "            iterations += 1\n",
    "            labels = self.get_labels(dataset, centroids)\n",
    "            centroids = self.get_centroids(dataset, labels)\n",
    "        \n",
    "        return centroids, labels\n",
    "    \n",
    "    "
   ]
  },
  {
   "cell_type": "code",
   "execution_count": 8,
   "metadata": {},
   "outputs": [],
   "source": [
    "def get_real_results(pred_centers, pred_labels):\n",
    "    \"\"\"\n",
    "    Returns the real results.\n",
    "    \"\"\"\n",
    "    real_pred_labels = np.zeros_like(pred_labels)\n",
    "    real_pred_centers = np.zeros_like(pred_centers)\n",
    "    for i in range(10):\n",
    "        indices = np.where(pred_labels == i)[0]\n",
    "        real_value = mode(y_test[indices])[0]\n",
    "        real_pred_labels[indices] = real_value\n",
    "        real_pred_centers[real_value] = pred_centers[i]\n",
    "    \n",
    "    return real_pred_centers, real_pred_labels"
   ]
  },
  {
   "cell_type": "markdown",
   "metadata": {},
   "source": [
    "## Question 3\n",
    "\n",
    "Analyse the results"
   ]
  },
  {
   "cell_type": "code",
   "execution_count": 9,
   "metadata": {},
   "outputs": [],
   "source": [
    "def print_centers(centroids):\n",
    "    centroids_im = centroids.T.reshape((28, 28, 1, -1))\n",
    "    for i in range(len(centroids)):\n",
    "        MNISTtools.show(centroids_im[:, :, 0, i])"
   ]
  },
  {
   "cell_type": "code",
   "execution_count": 10,
   "metadata": {},
   "outputs": [
    {
     "data": {
      "image/png": "[encoded data removed]",
      "text/plain": [
       "<Figure size 432x288 with 1 Axes>"
      ]
     },
     "metadata": {
      "needs_background": "light"
     },
     "output_type": "display_data"
    },
    {
     "data": {
      "image/png": "[encoded data removed]",
      "text/plain": [
       "<Figure size 432x288 with 1 Axes>"
      ]
     },
     "metadata": {
      "needs_background": "light"
     },
     "output_type": "display_data"
    },
    {
     "data": {
      "image/png": "[encoded data removed]",
      "text/plain": [
       "<Figure size 432x288 with 1 Axes>"
      ]
     },
     "metadata": {
      "needs_background": "light"
     },
     "output_type": "display_data"
    },
    {
     "data": {
      "image/png": "[encoded data removed]",
      "text/plain": [
       "<Figure size 432x288 with 1 Axes>"
      ]
     },
     "metadata": {
      "needs_background": "light"
     },
     "output_type": "display_data"
    },
    {
     "data": {
      "image/png": "[encoded data removed]",
      "text/plain": [
       "<Figure size 432x288 with 1 Axes>"
      ]
     },
     "metadata": {
      "needs_background": "light"
     },
     "output_type": "display_data"
    },
    {
     "data": {
      "image/png": "[encoded data removed]",
      "text/plain": [
       "<Figure size 432x288 with 1 Axes>"
      ]
     },
     "metadata": {
      "needs_background": "light"
     },
     "output_type": "display_data"
    },
    {
     "data": {
      "image/png": "[encoded data removed]",
      "text/plain": [
       "<Figure size 432x288 with 1 Axes>"
      ]
     },
     "metadata": {
      "needs_background": "light"
     },
     "output_type": "display_data"
    },
    {
     "data": {
      "image/png": "[encoded data removed]",
      "text/plain": [
       "<Figure size 432x288 with 1 Axes>"
      ]
     },
     "metadata": {
      "needs_background": "light"
     },
     "output_type": "display_data"
    },
    {
     "data": {
      "image/png": "[encoded data removed]",
      "text/plain": [
       "<Figure size 432x288 with 1 Axes>"
      ]
     },
     "metadata": {
      "needs_background": "light"
     },
     "output_type": "display_data"
    },
    {
     "data": {
      "image/png": "[encoded data removed]",
      "text/plain": [
       "<Figure size 432x288 with 1 Axes>"
      ]
     },
     "metadata": {
      "needs_background": "light"
     },
     "output_type": "display_data"
    },
    {
     "name": "stdout",
     "output_type": "stream",
     "text": [
      "La précision de Kmeans sur Mnist dataset est : 0.5571\n"
     ]
    }
   ],
   "source": [
    "from scipy.stats import mode\n",
    "\n",
    "clf = Kmeans(nb_clusters=10)\n",
    "\n",
    "pred_centers, pred_labels = clf.fit(x_test_t)\n",
    "print_centers(pred_centers)\n",
    "\n",
    "pred_centers, pred_labels = get_real_results(pred_centers, pred_labels)\n",
    "print(\"La précision de Kmeans sur Mnist dataset est :\", accuracy_score(y_test, pred_labels))"
   ]
  },
  {
   "cell_type": "markdown",
   "metadata": {},
   "source": [
    "Interprétation:\n",
    "\n",
    "Kmeans ne prend pas en considération l'emplacement des pixels plus foncés par rapport à l'image. une difference d'emplacemment entre deux images contenant le même chiffre peut mener a deux interprétations differentes, ce qui explique la faible précision obtenue."
   ]
  },
  {
   "cell_type": "markdown",
   "metadata": {},
   "source": [
    "# PART 2 - Naive Bayes\n",
    "Apply Naive Bayes classification to the digits classification problem. Train the model on the training dataset and evaluate on the testing set. Analyse your results"
   ]
  },
  {
   "cell_type": "markdown",
   "metadata": {},
   "source": [
    "## Question 4\n",
    "\n",
    "Implement Naive Bayes. Add comments to your code as necessary to make it more explicit"
   ]
  },
  {
   "cell_type": "code",
   "execution_count": 11,
   "metadata": {},
   "outputs": [],
   "source": [
    "from scipy.stats import multivariate_normal as mvn\n",
    "\n",
    "class MnistNaiveBayes:\n",
    "    \n",
    "    def __init__(self):\n",
    "        \"\"\"\n",
    "        Initialising class attributs\n",
    "        \"\"\"\n",
    "        self.nb_images = 0\n",
    "        self.nb_pixels = 0\n",
    "        self.nb_classes = 10\n",
    "        \n",
    "    def train(self, x_train, y_train, smoothing=1e-2):\n",
    "        \"\"\"\n",
    "        Training the Naive Bayes classifier\n",
    "        \"\"\"\n",
    "        self.nb_images, self.nb_pixels = x_train.shape\n",
    "        \n",
    "        #initialising mean, covariance, priors for each class y (We are going to use the Gaussian distribution)\n",
    "        self.mean = np.zeros((self.nb_classes, self.nb_pixels))\n",
    "        self.cvar = np.zeros((self.nb_classes, self.nb_pixels))\n",
    "        self.priors = np.zeros(self.nb_classes)\n",
    "        \n",
    "        #filling mean, cvar and priors\n",
    "        for i in range(self.nb_classes):\n",
    "            x_i = x_train[y_train == i]\n",
    "            self.mean[i] = x_i.mean(axis=0)\n",
    "            self.cvar[i] = x_i.var(axis=0)+smoothing\n",
    "            self.priors[i] = x_i.shape[0]/self.nb_images\n",
    "        \n",
    "    def predict(self, x_test):\n",
    "        \"\"\"\n",
    "        Predict the results\n",
    "        \"\"\"\n",
    "        test_nb_images, _ = x_test.shape\n",
    "        posteriors = np.zeros((test_nb_images, self.nb_classes))\n",
    "        for i in range(self.nb_classes):\n",
    "            posteriors[:,i] = np.log(self.priors[i]) + mvn.logpdf(x_test, mean=self.mean[i], cov=self.cvar[i])\n",
    "        \n",
    "        return np.argmax(posteriors, axis=1)"
   ]
  },
  {
   "cell_type": "markdown",
   "metadata": {},
   "source": [
    "## Question 5\n",
    "\n",
    "Analyse the results obtained on the testing dataset "
   ]
  },
  {
   "cell_type": "code",
   "execution_count": 12,
   "metadata": {},
   "outputs": [
    {
     "name": "stdout",
     "output_type": "stream",
     "text": [
      "La precision de Naive Bayes sur le testing dataset est : 0.6256\n"
     ]
    },
    {
     "data": {
      "text/plain": [
       "<AxesSubplot:>"
      ]
     },
     "execution_count": 12,
     "metadata": {},
     "output_type": "execute_result"
    },
    {
     "data": {
      "image/png": "[encoded data removed]",
      "text/plain": [
       "<Figure size 432x288 with 1 Axes>"
      ]
     },
     "metadata": {},
     "output_type": "display_data"
    }
   ],
   "source": [
    "clf = MnistNaiveBayes()\n",
    "clf.train(x_train_t, y_train)\n",
    "result = clf.predict(x_test_t)\n",
    "\n",
    "print(\"La precision de Naive Bayes sur le testing dataset est :\", accuracy_score(y_test, result))\n",
    "\n",
    "cmat = confusion_matrix(y_test, result)\n",
    "\n",
    "#Ploting confusion matrix\n",
    "import seaborn as sns\n",
    "\n",
    "sns.set()\n",
    "sns.heatmap(cmat, square=True, annot=True, fmt='d', cbar=False, xticklabels = ['0', '1', '2', '3', '4', '5', '6', '7', '8', '9']\\\n",
    "           ,yticklabels =  ['0', '1', '2', '3', '4', '5', '6', '7', '8', '9'])"
   ]
  },
  {
   "cell_type": "markdown",
   "metadata": {},
   "source": [
    "Interpretation : \n",
    "\n",
    "Le classifieur Bayesien fourni des resultats plus précis que celle obtenues avec kmeans. mais sa précision sur le testing dataset Mnist reste assez faible notammant sur les chiffre 5, 4, 7"
   ]
  },
  {
   "cell_type": "markdown",
   "metadata": {},
   "source": [
    "# PART 3 - SVM\n",
    "Apply SVM classification with linear and polynomial/gaussian kernels to the digits classification problem. Train the models on the training dataset and evaluate on the testing set. Analyse your results"
   ]
  },
  {
   "cell_type": "markdown",
   "metadata": {},
   "source": [
    "## Question 6\n",
    "\n",
    "Implement SVM classification with linear and polynomial/gaussian kernels. Add comments to your code as necessary to make it more explicit"
   ]
  },
  {
   "cell_type": "code",
   "execution_count": 13,
   "metadata": {},
   "outputs": [],
   "source": [
    "from sklearn import svm"
   ]
  },
  {
   "cell_type": "code",
   "execution_count": 14,
   "metadata": {},
   "outputs": [
    {
     "data": {
      "text/plain": [
       "SVC()"
      ]
     },
     "execution_count": 14,
     "metadata": {},
     "output_type": "execute_result"
    }
   ],
   "source": [
    "#SVM linear classifier\n",
    "linear_svm = svm.SVC(kernel='linear')\n",
    "linear_svm.fit(x_train_t, y_train)\n",
    "\n",
    "#SVM polynomial classifier \n",
    "polynomial_svm = svm.SVC(kernel='poly')\n",
    "polynomial_svm.fit(x_train_t, y_train)\n",
    "\n",
    "#SVM gaussian clasifier\n",
    "gaussian_svm = svm.SVC(kernel='rbf')\n",
    "gaussian_svm.fit(x_train_t, y_train)"
   ]
  },
  {
   "cell_type": "markdown",
   "metadata": {},
   "source": [
    "## Question 7\n",
    "\n",
    "Analyse the results obtained on the testing dataset"
   ]
  },
  {
   "cell_type": "code",
   "execution_count": 15,
   "metadata": {},
   "outputs": [
    {
     "name": "stdout",
     "output_type": "stream",
     "text": [
      "La precision du svm linéaire sur le testing dataset est:  0.9104\n",
      "La precision du svm polynomial sur le testing dataset est:  0.9359\n",
      "La precision du svm gaussien sur le testing dataset est:  0.9511\n"
     ]
    }
   ],
   "source": [
    "y_pred_linear = linear_svm.predict(x_test_t)\n",
    "accuracy = accuracy_score(y_test, y_pred_linear)\n",
    "print(\"La precision du svm linéaire sur le testing dataset est: \" , accuracy)\n",
    "\n",
    "\n",
    "y_pred_poly = polynomial_svm.predict(x_test_t)\n",
    "accuracy = accuracy_score(y_test, y_pred_poly)\n",
    "print(\"La precision du svm polynomial sur le testing dataset est: \" , accuracy)\n",
    "\n",
    "\n",
    "y_pred_gaussian = gaussian_svm.predict(x_test_t)\n",
    "accuracy = accuracy_score(y_test, y_pred_gaussian)\n",
    "print(\"La precision du svm gaussien sur le testing dataset est: \" , accuracy)"
   ]
  },
  {
   "cell_type": "markdown",
   "metadata": {},
   "source": [
    "Le classifieur Svm fournit des résultats plus précis que ceux obtenues à l'aide de K-means et Naive bayes.\n",
    "Nous remarquons que le classifieur svm avec noyau gaussien fournit une précision meilleure que les deux autres qui utilisent un noyau linéaire et polynomail. Toutefois, il faut noter que celui-ci prend beaucoup plus de temps de calcul par rapport aux deux autres."
   ]
  },
  {
   "cell_type": "markdown",
   "metadata": {},
   "source": [
    "# PART 4 - CNNs\n",
    "\n",
    "CNNs are specific artificial neural networks composed of *convolutional* layers, *maxpooling* operations, and\n",
    "*fully connected* layers.\n",
    "- Convolutional layers are like typical layers where the weight matrix has a specific structure that is relevant for signals and images.  \n",
    "They take as input $N$ images and produce as output $C$ images (called *feature maps* or *channels*).   \n",
    "They are parameterized by a collection of coeficients that defines a filter bank. Each filter performs a weighted average of its inputs within local sliding windows of size $K \\times K$  (pixels) where $K$ is a hyperparameter (a small odd number: 3, 5, 7, 9).  \n",
    "As for classical layers in neural networks, each feature map is next processed by an activation function such as  ReLU.  \n",
    "    \n",
    "- Maxpooling operations reduce the dimensions of the feature maps by picking the maximum value within local but non-overlapping sliding windows of size $L \\times L$ (pixels) where $L$ is another hyper-parameter (usually 2). Maxpooling does not introduce new parameters to be learned.  \n",
    "  \n",
    "- Fully connected layers are standard layers where the weight matrix does not have a specific structure: each of the $N$ output units is connected to each of the $M$ input units."
   ]
  },
  {
   "cell_type": "markdown",
   "metadata": {},
   "source": [
    "## Question 8\n",
    "\n",
    "PyTorch expects that the input of a convolutional layer is stored in the following format:\n",
    "  $$\n",
    "  \\texttt{Batch size} \\times \\texttt{Number of input channels} \\times \\texttt{Image height} \\times \\texttt{Image width}\n",
    "  $$\n",
    "  \n",
    "The number of input channels in our case is 1 because MNIST is composed of grayscale images. It would have been 3 if the images were in RGB color.\n",
    "In deeper layers, the number of input channels will be the number of feature maps coming from the previous layer.\n",
    "\n",
    "Reorganise the tensors `x_train_im` and `x_test_im` accordingly.\n",
    "Hint:\n",
    "  Reshape them first with shape $\\texttt{(28, 28, 1, 60000)}$ and $\\texttt{(28, 28, 1, 10000)}$\n",
    "  respectively and then use `np.moveaxis`."
   ]
  },
  {
   "cell_type": "code",
   "execution_count": 16,
   "metadata": {},
   "outputs": [
    {
     "name": "stdout",
     "output_type": "stream",
     "text": [
      "x_train_im shape :  (5000, 1, 28, 28)\n",
      "x_test_im shape :  (10000, 1, 28, 28)\n"
     ]
    }
   ],
   "source": [
    "#Reorganising the tensors\n",
    "x_train_im = x_train_im.reshape((28, 28, 1, n))\n",
    "x_test_im = x_test_im.reshape((28, 28, 1, 10000))\n",
    "#moving axes\n",
    "x_train_im = np.moveaxis(x_train_im, 3, 0)\n",
    "x_train_im = np.moveaxis(x_train_im, 3, 1)\n",
    "x_test_im = np.moveaxis(x_test_im, 3, 0)\n",
    "x_test_im = np.moveaxis(x_test_im, 3, 1)\n",
    "\n",
    "print(\"x_train_im shape : \",np.shape(x_train_im))\n",
    "print(\"x_test_im shape : \",np.shape(x_test_im))"
   ]
  },
  {
   "cell_type": "markdown",
   "metadata": {},
   "source": [
    "Let us also normalize MNIST testing and training data."
   ]
  },
  {
   "cell_type": "code",
   "execution_count": 17,
   "metadata": {},
   "outputs": [],
   "source": [
    "def normalize_MNIST_images(x):\n",
    "    return 2 * x.astype(np.float32) / 255. - 1\n",
    "x_train_im = normalize_MNIST_images(x_train_im)\n",
    "x_test_im = normalize_MNIST_images(x_test_im)"
   ]
  },
  {
   "cell_type": "markdown",
   "metadata": {},
   "source": [
    "and finally wrap all the data into torch Tensors"
   ]
  },
  {
   "cell_type": "code",
   "execution_count": 18,
   "metadata": {},
   "outputs": [],
   "source": [
    "x_train_torch = torch.from_numpy(x_train_im)\n",
    "y_train_torch = torch.from_numpy(y_train)\n",
    "x_test_torch = torch.from_numpy(x_test_im)\n",
    "y_test_torch = torch.from_numpy(y_test)"
   ]
  },
  {
   "cell_type": "markdown",
   "metadata": {},
   "source": [
    "## Question 9\n",
    "\n",
    "Neural networks can be constructed using the `torch.nn` package, which relies on `autograd` differentiation tools.\n",
    "This package provides an implementation of CNNs as follows:\n",
    "\n",
    "* Convolutional layers can be created as `nn.Conv2d(N, C, K)`.\n",
    "  For input images of size $W \\times H$, without padding the output feature maps have size $[W-K+1] \\times [H-K+1]$.\n",
    "* In PyTorch, maxpooling is implemented like any other non-linear function (such as\n",
    "  `ReLU` or `softmax`).\n",
    "  For input images of size $W \\times H$, the output feature maps\n",
    "  have size $\\lceil W/L \\rceil \\times \\lceil H/L \\rceil$.\n",
    "* A fully connected layer can be created as `nn.Linear(M, N)`.\n",
    "\n",
    "Our LeNet network will be composed successively of\n",
    "   1. a convolutional layer (i) connecting the input image to 6\n",
    "    feature maps with $5 \\times 5$ convolutions ($K = 5$) and followed\n",
    "    by ReLU and maxpooling (ii) ($L=2$),\n",
    "   2. a convolutional layer (iii) connecting the 6 input channels to 16\n",
    "    output channels with $5 \\times 5$ convolutions and followed\n",
    "    by ReLU and maxpooling (iv) ($L=2$),\n",
    "   3. a fully-connected layer connecting $16$ feature maps\n",
    "    to $120$ output units and followed by ReLU,\n",
    "   4. a fully-connected layer connecting $120$ inputs\n",
    "    to $84$ output units and followed by ReLU,\n",
    "   5. a final linear layer connecting $84$ inputs\n",
    "    to $10$ linear outputs (one for each of our digits).\n",
    "\n",
    "Determine the size of the feature maps after each convolution and maxpooling operation i.e. at points (i)-(iv) processing steps. "
   ]
  },
  {
   "cell_type": "markdown",
   "metadata": {},
   "source": [
    "- Après la convolution (i) : $(28-5+1) \\times (28-5+1) \\times 6$ donc $24 \\times 24 \\times 6$\n",
    "- Après le maxpooling (ii) : $(24/2) \\times (24/2) \\times 6$ donc $12 \\times 12 \\times 6$\n",
    "- Après la convolution (iii) : $(12-5+1) \\times (12-5+1) \\times 16$ donc $8 \\times 8 \\times 16$\n",
    "- Après le maxpooling (iv) : $(8/2) \\times (8/2) \\times 16$ donc $4 \\times 4 \\times 16$"
   ]
  },
  {
   "cell_type": "markdown",
   "metadata": {},
   "source": [
    "## Question 10\n",
    "\n",
    "Analyse and complete the following code initializing our LeNet network. \n",
    "\n",
    "Note that you just have to define the forward function, and the backward function (where gradients are computed) will be automatically defined for you using `autograd`.\n",
    "You can use any of the Torch tensor operations in the forward function.\n",
    "For more details, please refer to https://pytorch.org/docs/stable/nn.html"
   ]
  },
  {
   "cell_type": "code",
   "execution_count": 39,
   "metadata": {},
   "outputs": [
    {
     "name": "stdout",
     "output_type": "stream",
     "text": [
      "LeNet(\n",
      "  (conv1): Conv2d(1, 6, kernel_size=(5, 5), stride=(1, 1))\n",
      "  (conv2): Conv2d(6, 16, kernel_size=(5, 5), stride=(1, 1))\n",
      "  (fc1): Linear(in_features=256, out_features=120, bias=True)\n",
      "  (fc2): Linear(in_features=120, out_features=84, bias=True)\n",
      "  (fc3): Linear(in_features=84, out_features=10, bias=True)\n",
      ")\n"
     ]
    }
   ],
   "source": [
    "# The neural networks class\n",
    "class LeNet(nn.Module):\n",
    "\n",
    "    # define our network structure\n",
    "    def __init__(self):\n",
    "        super(LeNet, self).__init__()\n",
    "        self.conv1 = nn.Conv2d(1, 6 , 5)\n",
    "        self.conv2 = nn.Conv2d(6, 16, 5)\n",
    "        self.fc1 = nn.Linear(16*4*4, 120)\n",
    "        self.fc2 = nn.Linear(120, 84)\n",
    "        self.fc3 = nn.Linear(84, 10)\n",
    "\n",
    "    # define one forward pass through the network\n",
    "    def forward(self, x):\n",
    "        x = F.max_pool2d(F.relu(self.conv1(x)), (2, 2))\n",
    "        x = F.max_pool2d(F.relu(self.conv2(x)), (2, 2))\n",
    "        x = x.view(-1, self.num_flat_features(x))\n",
    "        x = F.relu(self.fc1(x))\n",
    "        x = F.relu(self.fc2(x))\n",
    "        x = self.fc3(x)\n",
    "        return x\n",
    "    \n",
    "    # helper function to understand the dimensions\n",
    "    def num_flat_features(self, x):\n",
    "        size = x.size()[1:] # all dimensions except the batch dimension\n",
    "        return np.prod(size)\n",
    "\n",
    "net = LeNet()\n",
    "print(net)"
   ]
  },
  {
   "cell_type": "markdown",
   "metadata": {},
   "source": [
    "## Question 11\n",
    "\n",
    "Run the following and interpret the results. What are the learnable parameters?  Are gradients going to be tracked for all parameters?"
   ]
  },
  {
   "cell_type": "code",
   "execution_count": 40,
   "metadata": {
    "scrolled": true
   },
   "outputs": [
    {
     "name": "stdout",
     "output_type": "stream",
     "text": [
      "conv1.weight torch.Size([6, 1, 5, 5]) True\n",
      "conv1.bias torch.Size([6]) True\n",
      "conv2.weight torch.Size([16, 6, 5, 5]) True\n",
      "conv2.bias torch.Size([16]) True\n",
      "fc1.weight torch.Size([120, 256]) True\n",
      "fc1.bias torch.Size([120]) True\n",
      "fc2.weight torch.Size([84, 120]) True\n",
      "fc2.bias torch.Size([84]) True\n",
      "fc3.weight torch.Size([10, 84]) True\n",
      "fc3.bias torch.Size([10]) True\n"
     ]
    }
   ],
   "source": [
    "for name, param in net.named_parameters():\n",
    "    print(name, param.size(), param.requires_grad)  "
   ]
  },
  {
   "cell_type": "markdown",
   "metadata": {},
   "source": [
    "Les paramètres appris sont les \"weights\" et les \"biases\". les gradients vont trackés pour tous les paramètres."
   ]
  },
  {
   "cell_type": "markdown",
   "metadata": {},
   "source": [
    "### Running a foward pass\n",
    "\n",
    "To run a forward pass of your initial network over your testing set, simply run the following code. \n",
    "\n",
    "Note that `with torch.no_grad()` is used to avoid tracking for\n",
    "gradient during testing and then save some computation time\n",
    "(refer to https://pytorch.org/docs/stable/autograd.html#torch.autograd.no_grad)."
   ]
  },
  {
   "cell_type": "code",
   "execution_count": 55,
   "metadata": {},
   "outputs": [],
   "source": [
    "with torch.no_grad():\n",
    "    pred = net(x_test_torch) # equivalent to pred = net.forward(x_test_torch)"
   ]
  },
  {
   "cell_type": "markdown",
   "metadata": {},
   "source": [
    "## Question 12\n",
    "\n",
    "Run the following and interpret the result"
   ]
  },
  {
   "cell_type": "code",
   "execution_count": 56,
   "metadata": {},
   "outputs": [
    {
     "name": "stdout",
     "output_type": "stream",
     "text": [
      "tensor(96.8300)\n"
     ]
    }
   ],
   "source": [
    "_, pred_labels = pred.max(1)\n",
    "print(100 * (y_test_torch == pred_labels).float().mean())"
   ]
  },
  {
   "cell_type": "markdown",
   "metadata": {},
   "source": [
    "Interprétation :\n",
    "\n",
    "pred.max (1) renvoie l'indice ayant la valeur maximale pour chaque image de l'ensemble de test. Cet indice peut être interprété comme le chiffre le plus probable représenté par l'image. la précision de test est ∼10%."
   ]
  },
  {
   "cell_type": "markdown",
   "metadata": {},
   "source": [
    "## Question 13\n",
    "\n",
    "We will use (Mini-Batch) Stochastic Gradient Descent (SGD) with momentum, and cross-entropy as the loss.\n",
    "Complete the following function.\n",
    "\n",
    "For more details, refer to\n",
    "https://pytorch.org/docs/stable/nn.html and\n",
    "https://pytorch.org/docs/stable/optim.html.\n",
    "\n",
    "Note that PyTorch's `CrossEntropyLoss` is already the composition of a softmax activation with the standard cross-entropy loss."
   ]
  },
  {
   "cell_type": "code",
   "execution_count": 61,
   "metadata": {},
   "outputs": [],
   "source": [
    "# T: number of epochs\n",
    "# B: minibatch size, \n",
    "# gamma: step size,\n",
    "# rho: momentum.\n",
    "def backprop_deep(x_train, y_train, net, T, B=100, gamma=.001, rho=.9):\n",
    "    N = x_train.size()[0]        # Training set size\n",
    "    NB = N//B   # Number of minibatches\n",
    "    criterion = nn.CrossEntropyLoss()\n",
    "    optimizer = torch.optim.SGD(net.parameters(), lr=gamma, momentum=rho) # COMPLETE\n",
    "    \n",
    "    loss_values = []\n",
    "    for epoch in range(T):\n",
    "        running_loss = 0.0\n",
    "        shuffled_indices = np.random.permutation(range(N))\n",
    "        for k in range(NB):\n",
    "            # Extract k-th minibatch from xtrain and ltrain\n",
    "            minibatch_indices = shuffled_indices[B*k:min(B*(k+1), N)]\n",
    "            inputs = x_train[minibatch_indices, ...]\n",
    "            labels = y_train[minibatch_indices, ...]\n",
    "\n",
    "            # Initialize the gradients to zero\n",
    "            optimizer.zero_grad()\n",
    "\n",
    "            # Forward propogation\n",
    "            outputs = net(inputs) \n",
    "\n",
    "            # Error evaluation\n",
    "            loss = criterion(outputs, labels)\n",
    "\n",
    "            # Back propogation\n",
    "            loss.backward() \n",
    "\n",
    "            # Optimize step\n",
    "            optimizer.step()\n",
    "\n",
    "            # Compute and print statistics\n",
    "            with torch.no_grad():\n",
    "                running_loss += loss.item()*inputs.size(0)\n",
    "  \n",
    "            \n",
    "        loss_values.append(running_loss/NB)\n",
    "  \n",
    "    plt.plot(loss_values)"
   ]
  },
  {
   "cell_type": "markdown",
   "metadata": {},
   "source": [
    "## Question 14\n",
    "\n",
    "Run the function for 50 epochs, it may take several minutes. The number of epochs has to be adapted to reach convergence as most as possible.\n",
    "The loss per minibatch should decay (it may take some time). Explain the curve."
   ]
  },
  {
   "cell_type": "code",
   "execution_count": 62,
   "metadata": {},
   "outputs": [
    {
     "data": {
      "image/png": "[encoded data removed]",
      "text/plain": [
       "<Figure size 432x288 with 1 Axes>"
      ]
     },
     "metadata": {},
     "output_type": "display_data"
    }
   ],
   "source": [
    "backprop_deep(x_train_torch, y_train_torch, net, T=50)"
   ]
  },
  {
   "cell_type": "markdown",
   "metadata": {},
   "source": [
    "La perte commence àconverger à partir de 30 epochs et s'est stabilisé par la suite. cette allure s'expliquer par le taux d'apprentissage lr (0.001) assez faible, l'augmentation de lr a permis d'accélerer cette convergence mais on a remarqué l'apparition des fluctuation."
   ]
  },
  {
   "cell_type": "markdown",
   "metadata": {},
   "source": [
    "## Question 15 - Optional\n",
    "\n",
    "If you have a GPU, experiment the following and analyze the results"
   ]
  },
  {
   "cell_type": "code",
   "execution_count": 59,
   "metadata": {},
   "outputs": [
    {
     "name": "stdout",
     "output_type": "stream",
     "text": [
      "Sorry no GPU\n"
     ]
    },
    {
     "name": "stderr",
     "output_type": "stream",
     "text": [
      "<>:3: SyntaxWarning: \"is not\" with a literal. Did you mean \"!=\"?\n",
      "<>:3: SyntaxWarning: \"is not\" with a literal. Did you mean \"!=\"?\n",
      "/tmp/ipykernel_26228/248109132.py:3: SyntaxWarning: \"is not\" with a literal. Did you mean \"!=\"?\n",
      "  if device is not 'cpu':\n"
     ]
    }
   ],
   "source": [
    "import time\n",
    "device = 'cuda' if torch.cuda.is_available() else 'cpu'\n",
    "if device is not 'cpu':\n",
    "    net = LeNet().to(device)\n",
    "    xtrain = xtrain.to(device)\n",
    "    ltrain = ltrain.to(device)\n",
    "    t = time.time()\n",
    "    backprop_deep(xtrain, ltrain, net, T=50)\n",
    "    print(time.time() - t)\n",
    "    net = net.to('cpu')\n",
    "    xtrain_torch = xtrain_torch.to('cpu')\n",
    "    ltrain_torch = ltrain_torch.to('cpu')\n",
    "else:\n",
    "    print('Sorry no GPU')  "
   ]
  },
  {
   "cell_type": "markdown",
   "metadata": {},
   "source": [
    "## Question 16\n",
    "\n",
    "Analyse the results obtained by applying the network to the testing dataset. "
   ]
  },
  {
   "cell_type": "code",
   "execution_count": 54,
   "metadata": {},
   "outputs": [
    {
     "name": "stdout",
     "output_type": "stream",
     "text": [
      "Accuracy:  tensor(96.8300)\n"
     ]
    }
   ],
   "source": [
    "pred = net(x_test_torch)\n",
    "_, pred_labels = pred.max(1)\n",
    "print(\"Accuracy: \", 100*(y_test_torch == pred_labels).float().mean(),)"
   ]
  },
  {
   "cell_type": "markdown",
   "metadata": {},
   "source": [
    "Avec un dataset de n = 5000 nous avons obtenu une précision de 95%. une précision qui a augmentée quand on a augmenter la valeur de n. d'où l'importance d'avoir un training dataset assez grand."
   ]
  },
  {
   "cell_type": "markdown",
   "metadata": {},
   "source": [
    "# PART 5 - Comparison and conclusion"
   ]
  },
  {
   "cell_type": "markdown",
   "metadata": {},
   "source": [
    "## Question 9\n",
    "\n",
    "Compare all results and conclude\n"
   ]
  },
  {
   "cell_type": "markdown",
   "metadata": {},
   "source": [
    "Après application de Kmeans, Naive Bayes, SVN et CNN sur le Mnist dataset nous pouvons conclure sur la précision de ces modèles. CNN est par loin le plus précis ainsi on peut dire que c'est l'approche la mieux adaptée pour résoudre ce problème de classification."
   ]
  }
 ],
 "metadata": {
  "kernelspec": {
   "display_name": "Python 3 (ipykernel)",
   "language": "python",
   "name": "python3"
  },
  "language_info": {
   "codemirror_mode": {
    "name": "ipython",
    "version": 3
   },
   "file_extension": ".py",
   "mimetype": "text/x-python",
   "name": "python",
   "nbconvert_exporter": "python",
   "pygments_lexer": "ipython3",
   "version": "3.8.10"
  },
  "latex_envs": {
   "LaTeX_envs_menu_present": true,
   "autoclose": false,
   "autocomplete": true,
   "bibliofile": "biblio.bib",
   "cite_by": "apalike",
   "current_citInitial": 1,
   "eqLabelWithNumbers": true,
   "eqNumInitial": 1,
   "hotkeys": {
    "equation": "Ctrl-E",
    "itemize": "Ctrl-I"
   },
   "labels_anchors": false,
   "latex_user_defs": false,
   "report_style_numbering": false,
   "user_envs_cfg": false
  }
 },
 "nbformat": 4,
 "nbformat_minor": 4
}
